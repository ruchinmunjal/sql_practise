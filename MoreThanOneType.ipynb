{
    "metadata": {
        "kernelspec": {
            "name": "SQL",
            "display_name": "SQL",
            "language": "sql"
        },
        "language_info": {
            "name": "sql",
            "version": ""
        }
    },
    "nbformat_minor": 2,
    "nbformat": 4,
    "cells": [
        {
            "cell_type": "code",
            "source": [
                "CREATE TABLE Customer\r\n",
                "(\r\n",
                "    Id INT NOT NULL PRIMARY KEY,\r\n",
                "    Name VARCHAR(255),\r\n",
                "    CustomerType CHAR(1)\r\n",
                ")\r\n",
                "\r\n",
                "CREATE TABLE DebitOrders\r\n",
                "(\r\n",
                "    Id INT NOT NULL PRIMARY KEY,\r\n",
                "    DebitType CHAR(1),\r\n",
                "    Amount DECIMAL,\r\n",
                "    Customer_Id INT\r\n",
                "        FOREIGN KEY REFERENCES Customer (Id)\r\n",
                ")\r\n",
                "\r\n",
                "INSERT INTO Customer\r\n",
                "VALUES\r\n",
                "    (\r\n",
                "        1, 'Ruchin', 'P'\r\n",
                "    )\r\n",
                "INSERT INTO Customer\r\n",
                "VALUES\r\n",
                "    (\r\n",
                "        2, 'Mia', 'P'\r\n",
                "    )\r\n",
                "INSERT INTO Customer\r\n",
                "VALUES\r\n",
                "    (\r\n",
                "        3, 'Shray', 'O'\r\n",
                "    )\r\n",
                "INSERT INTO Customer\r\n",
                "VALUES\r\n",
                "    (\r\n",
                "        4, 'Brinda', 'P'\r\n",
                "    )\r\n",
                "INSERT INTO Customer\r\n",
                "VALUES\r\n",
                "    (\r\n",
                "        5, 'Parul', 'O'\r\n",
                "    )\r\n",
                "INSERT INTO Customer\r\n",
                "VALUES\r\n",
                "    (\r\n",
                "        6, 'Usha', 'O'\r\n",
                "    )\r\n",
                "INSERT INTO Customer\r\n",
                "VALUES\r\n",
                "    (\r\n",
                "        7, 'Ravi', 'O'\r\n",
                "    )\r\n",
                "INSERT INTO Customer\r\n",
                "VALUES\r\n",
                "    (\r\n",
                "        8, 'Joe', 'O'\r\n",
                "    )\r\n",
                "\r\n",
                "INSERT INTO DebitOrders\r\n",
                "VALUES\r\n",
                "    (\r\n",
                "        1, 'S', 10.00, 1\r\n",
                "    )\r\n",
                "INSERT INTO DebitOrders\r\n",
                "VALUES\r\n",
                "    (\r\n",
                "        2, 'I', 100.00, 1\r\n",
                "    )\r\n",
                "INSERT INTO DebitOrders\r\n",
                "VALUES\r\n",
                "    (\r\n",
                "        3, NULL, 10.00, 1\r\n",
                "    )\r\n",
                "INSERT INTO DebitOrders\r\n",
                "VALUES\r\n",
                "    (\r\n",
                "        4, 'S', 10.00, 2\r\n",
                "    )\r\n",
                "INSERT INTO DebitOrders\r\n",
                "VALUES\r\n",
                "    (\r\n",
                "        5, 'S', 10.00, 2\r\n",
                "    )\r\n",
                "INSERT INTO DebitOrders\r\n",
                "VALUES\r\n",
                "    (\r\n",
                "        6, 'I', 10.00, 3\r\n",
                "    )\r\n",
                "INSERT INTO DebitOrders\r\n",
                "VALUES\r\n",
                "    (\r\n",
                "        7, 'I', 10.00, 3\r\n",
                "    )\r\n",
                "INSERT INTO DebitOrders\r\n",
                "VALUES\r\n",
                "    (\r\n",
                "        8, 'I', 10.00, 4\r\n",
                "    )\r\n",
                "INSERT INTO DebitOrders\r\n",
                "VALUES\r\n",
                "    (\r\n",
                "        9, 'S', 10.00, 5\r\n",
                "    )\r\n",
                "INSERT INTO DebitOrders\r\n",
                "VALUES\r\n",
                "    (\r\n",
                "        10, NULL, 10.00, 6\r\n",
                "    )\r\n",
                "INSERT INTO DebitOrders\r\n",
                "VALUES\r\n",
                "    (\r\n",
                "        11, 'S', 10.00, 7\r\n",
                "    )\r\n",
                "INSERT INTO DebitOrders\r\n",
                "VALUES\r\n",
                "    (\r\n",
                "        12, 'I', 10.00, 7\r\n",
                "    )\r\n",
                "INSERT INTO DebitOrders\r\n",
                "VALUES\r\n",
                "    (\r\n",
                "        13, 'I', 10.00, 8\r\n",
                "    )\r\n",
                "\r\n",
                "\r\n",
                ""
            ],
            "metadata": {
                "azdata_cell_guid": "a1a23826-b7c5-4d72-bdc6-3a4168055619",
                "language": "sql"
            },
            "outputs": [
                {
                    "output_type": "display_data",
                    "data": {
                        "text/html": "(1 row affected)"
                    },
                    "metadata": {}
                },
                {
                    "output_type": "display_data",
                    "data": {
                        "text/html": "(1 row affected)"
                    },
                    "metadata": {}
                },
                {
                    "output_type": "display_data",
                    "data": {
                        "text/html": "(1 row affected)"
                    },
                    "metadata": {}
                },
                {
                    "output_type": "display_data",
                    "data": {
                        "text/html": "(1 row affected)"
                    },
                    "metadata": {}
                },
                {
                    "output_type": "display_data",
                    "data": {
                        "text/html": "(1 row affected)"
                    },
                    "metadata": {}
                },
                {
                    "output_type": "display_data",
                    "data": {
                        "text/html": "(1 row affected)"
                    },
                    "metadata": {}
                },
                {
                    "output_type": "display_data",
                    "data": {
                        "text/html": "(1 row affected)"
                    },
                    "metadata": {}
                },
                {
                    "output_type": "display_data",
                    "data": {
                        "text/html": "(1 row affected)"
                    },
                    "metadata": {}
                },
                {
                    "output_type": "display_data",
                    "data": {
                        "text/html": "(1 row affected)"
                    },
                    "metadata": {}
                },
                {
                    "output_type": "display_data",
                    "data": {
                        "text/html": "(1 row affected)"
                    },
                    "metadata": {}
                },
                {
                    "output_type": "display_data",
                    "data": {
                        "text/html": "(1 row affected)"
                    },
                    "metadata": {}
                },
                {
                    "output_type": "display_data",
                    "data": {
                        "text/html": "(1 row affected)"
                    },
                    "metadata": {}
                },
                {
                    "output_type": "display_data",
                    "data": {
                        "text/html": "(1 row affected)"
                    },
                    "metadata": {}
                },
                {
                    "output_type": "display_data",
                    "data": {
                        "text/html": "(1 row affected)"
                    },
                    "metadata": {}
                },
                {
                    "output_type": "display_data",
                    "data": {
                        "text/html": "(1 row affected)"
                    },
                    "metadata": {}
                },
                {
                    "output_type": "display_data",
                    "data": {
                        "text/html": "(1 row affected)"
                    },
                    "metadata": {}
                },
                {
                    "output_type": "display_data",
                    "data": {
                        "text/html": "(1 row affected)"
                    },
                    "metadata": {}
                },
                {
                    "output_type": "display_data",
                    "data": {
                        "text/html": "(1 row affected)"
                    },
                    "metadata": {}
                },
                {
                    "output_type": "display_data",
                    "data": {
                        "text/html": "(1 row affected)"
                    },
                    "metadata": {}
                },
                {
                    "output_type": "display_data",
                    "data": {
                        "text/html": "(1 row affected)"
                    },
                    "metadata": {}
                },
                {
                    "output_type": "display_data",
                    "data": {
                        "text/html": "(1 row affected)"
                    },
                    "metadata": {}
                },
                {
                    "output_type": "display_data",
                    "data": {
                        "text/html": "Total execution time: 00:00:00.029"
                    },
                    "metadata": {}
                }
            ],
            "execution_count": 1
        },
        {
            "cell_type": "code",
            "source": [
                "select * from customer\r\n",
                "\r\n",
                "select * from debitorders\r\n",
                "\r\n",
                "\r\n",
                "\r\n",
                ""
            ],
            "metadata": {
                "azdata_cell_guid": "41924435-7903-40f3-9c4d-a2f8d66eb549",
                "language": "sql"
            },
            "outputs": [
                {
                    "output_type": "display_data",
                    "data": {
                        "text/html": "(8 rows affected)"
                    },
                    "metadata": {}
                },
                {
                    "output_type": "display_data",
                    "data": {
                        "text/html": "(13 rows affected)"
                    },
                    "metadata": {}
                },
                {
                    "output_type": "display_data",
                    "data": {
                        "text/html": "Total execution time: 00:00:00.010"
                    },
                    "metadata": {}
                },
                {
                    "output_type": "execute_result",
                    "execution_count": 4,
                    "data": {
                        "application/vnd.dataresource+json": {
                            "schema": {
                                "fields": [
                                    {
                                        "name": "Id"
                                    },
                                    {
                                        "name": "Name"
                                    },
                                    {
                                        "name": "CustomerType"
                                    }
                                ]
                            },
                            "data": [
                                {
                                    "0": "1",
                                    "1": "Ruchin",
                                    "2": "P"
                                },
                                {
                                    "0": "2",
                                    "1": "Mia",
                                    "2": "P"
                                },
                                {
                                    "0": "3",
                                    "1": "Shray",
                                    "2": "O"
                                },
                                {
                                    "0": "4",
                                    "1": "Brinda",
                                    "2": "P"
                                },
                                {
                                    "0": "5",
                                    "1": "Parul",
                                    "2": "O"
                                },
                                {
                                    "0": "6",
                                    "1": "Usha",
                                    "2": "O"
                                },
                                {
                                    "0": "7",
                                    "1": "Ravi",
                                    "2": "O"
                                },
                                {
                                    "0": "8",
                                    "1": "Joe",
                                    "2": "O"
                                }
                            ]
                        },
                        "text/html": "<table><tr><th>Id</th><th>Name</th><th>CustomerType</th></tr><tr><td>1</td><td>Ruchin</td><td>P</td></tr><tr><td>2</td><td>Mia</td><td>P</td></tr><tr><td>3</td><td>Shray</td><td>O</td></tr><tr><td>4</td><td>Brinda</td><td>P</td></tr><tr><td>5</td><td>Parul</td><td>O</td></tr><tr><td>6</td><td>Usha</td><td>O</td></tr><tr><td>7</td><td>Ravi</td><td>O</td></tr><tr><td>8</td><td>Joe</td><td>O</td></tr></table>"
                    },
                    "metadata": {}
                },
                {
                    "output_type": "execute_result",
                    "execution_count": 4,
                    "data": {
                        "application/vnd.dataresource+json": {
                            "schema": {
                                "fields": [
                                    {
                                        "name": "Id"
                                    },
                                    {
                                        "name": "DebitType"
                                    },
                                    {
                                        "name": "Amount"
                                    },
                                    {
                                        "name": "Customer_Id"
                                    }
                                ]
                            },
                            "data": [
                                {
                                    "0": "1",
                                    "1": "S",
                                    "2": "10",
                                    "3": "1"
                                },
                                {
                                    "0": "2",
                                    "1": "I",
                                    "2": "100",
                                    "3": "1"
                                },
                                {
                                    "0": "3",
                                    "1": "NULL",
                                    "2": "10",
                                    "3": "1"
                                },
                                {
                                    "0": "4",
                                    "1": "S",
                                    "2": "10",
                                    "3": "2"
                                },
                                {
                                    "0": "5",
                                    "1": "S",
                                    "2": "10",
                                    "3": "2"
                                },
                                {
                                    "0": "6",
                                    "1": "I",
                                    "2": "10",
                                    "3": "3"
                                },
                                {
                                    "0": "7",
                                    "1": "I",
                                    "2": "10",
                                    "3": "3"
                                },
                                {
                                    "0": "8",
                                    "1": "I",
                                    "2": "10",
                                    "3": "4"
                                },
                                {
                                    "0": "9",
                                    "1": "S",
                                    "2": "10",
                                    "3": "5"
                                },
                                {
                                    "0": "10",
                                    "1": "NULL",
                                    "2": "10",
                                    "3": "6"
                                },
                                {
                                    "0": "11",
                                    "1": "S",
                                    "2": "10",
                                    "3": "7"
                                },
                                {
                                    "0": "12",
                                    "1": "I",
                                    "2": "10",
                                    "3": "7"
                                },
                                {
                                    "0": "13",
                                    "1": "I",
                                    "2": "10",
                                    "3": "8"
                                }
                            ]
                        },
                        "text/html": "<table><tr><th>Id</th><th>DebitType</th><th>Amount</th><th>Customer_Id</th></tr><tr><td>1</td><td>S</td><td>10</td><td>1</td></tr><tr><td>2</td><td>I</td><td>100</td><td>1</td></tr><tr><td>3</td><td>NULL</td><td>10</td><td>1</td></tr><tr><td>4</td><td>S</td><td>10</td><td>2</td></tr><tr><td>5</td><td>S</td><td>10</td><td>2</td></tr><tr><td>6</td><td>I</td><td>10</td><td>3</td></tr><tr><td>7</td><td>I</td><td>10</td><td>3</td></tr><tr><td>8</td><td>I</td><td>10</td><td>4</td></tr><tr><td>9</td><td>S</td><td>10</td><td>5</td></tr><tr><td>10</td><td>NULL</td><td>10</td><td>6</td></tr><tr><td>11</td><td>S</td><td>10</td><td>7</td></tr><tr><td>12</td><td>I</td><td>10</td><td>7</td></tr><tr><td>13</td><td>I</td><td>10</td><td>8</td></tr></table>"
                    },
                    "metadata": {}
                }
            ],
            "execution_count": 4
        },
        {
            "cell_type": "code",
            "source": [
                "SELECT *\r\n",
                "FROM debitorders dd\r\n",
                "WHERE dd.customer_id IN(SELECT d.customer_id\r\n",
                "                       FROM debitorders d\r\n",
                "                            INNER JOIN customer c ON c.id=d.Customer_Id\r\n",
                "                       GROUP BY d.customer_id\r\n",
                "                       HAVING COUNT(*)>1)"
            ],
            "metadata": {
                "language": "sql",
                "azdata_cell_guid": "4fd1fc7c-d6a7-4847-b315-a93472966f70"
            },
            "outputs": [
                {
                    "output_type": "display_data",
                    "data": {
                        "text/html": "(9 rows affected)"
                    },
                    "metadata": {}
                },
                {
                    "output_type": "display_data",
                    "data": {
                        "text/html": "Total execution time: 00:00:00.005"
                    },
                    "metadata": {}
                },
                {
                    "output_type": "execute_result",
                    "metadata": {},
                    "execution_count": 7,
                    "data": {
                        "application/vnd.dataresource+json": {
                            "schema": {
                                "fields": [
                                    {
                                        "name": "Id"
                                    },
                                    {
                                        "name": "DebitType"
                                    },
                                    {
                                        "name": "Amount"
                                    },
                                    {
                                        "name": "Customer_Id"
                                    }
                                ]
                            },
                            "data": [
                                {
                                    "0": "1",
                                    "1": "S",
                                    "2": "10",
                                    "3": "1"
                                },
                                {
                                    "0": "2",
                                    "1": "I",
                                    "2": "100",
                                    "3": "1"
                                },
                                {
                                    "0": "3",
                                    "1": "NULL",
                                    "2": "10",
                                    "3": "1"
                                },
                                {
                                    "0": "4",
                                    "1": "S",
                                    "2": "10",
                                    "3": "2"
                                },
                                {
                                    "0": "5",
                                    "1": "S",
                                    "2": "10",
                                    "3": "2"
                                },
                                {
                                    "0": "6",
                                    "1": "I",
                                    "2": "10",
                                    "3": "3"
                                },
                                {
                                    "0": "7",
                                    "1": "I",
                                    "2": "10",
                                    "3": "3"
                                },
                                {
                                    "0": "11",
                                    "1": "S",
                                    "2": "10",
                                    "3": "7"
                                },
                                {
                                    "0": "12",
                                    "1": "I",
                                    "2": "10",
                                    "3": "7"
                                }
                            ]
                        },
                        "text/html": [
                            "<table>",
                            "<tr><th>Id</th><th>DebitType</th><th>Amount</th><th>Customer_Id</th></tr>",
                            "<tr><td>1</td><td>S</td><td>10</td><td>1</td></tr>",
                            "<tr><td>2</td><td>I</td><td>100</td><td>1</td></tr>",
                            "<tr><td>3</td><td>NULL</td><td>10</td><td>1</td></tr>",
                            "<tr><td>4</td><td>S</td><td>10</td><td>2</td></tr>",
                            "<tr><td>5</td><td>S</td><td>10</td><td>2</td></tr>",
                            "<tr><td>6</td><td>I</td><td>10</td><td>3</td></tr>",
                            "<tr><td>7</td><td>I</td><td>10</td><td>3</td></tr>",
                            "<tr><td>11</td><td>S</td><td>10</td><td>7</td></tr>",
                            "<tr><td>12</td><td>I</td><td>10</td><td>7</td></tr>",
                            "</table>"
                        ]
                    }
                }
            ],
            "execution_count": 7
        },
        {
            "cell_type": "code",
            "source": [
                "select * from DebitOrders dd where dd.Customer_Id in (SELECT Id FROM Customer c\r\n",
                "WHERE EXISTS (select Customer_Id from DebitOrders d inner join Customer ON c.Id=d.customer_id where DebitType='S'))\r\n",
                "and dd.DebitType='I'"
            ],
            "metadata": {
                "language": "sql",
                "azdata_cell_guid": "1f9fb72d-6a0a-4e42-8867-0944f95eafa5",
                "tags": []
            },
            "outputs": [
                {
                    "output_type": "display_data",
                    "data": {
                        "text/html": "(2 rows affected)"
                    },
                    "metadata": {}
                },
                {
                    "output_type": "display_data",
                    "data": {
                        "text/html": "Total execution time: 00:00:00.025"
                    },
                    "metadata": {}
                },
                {
                    "output_type": "execute_result",
                    "metadata": {},
                    "execution_count": 21,
                    "data": {
                        "application/vnd.dataresource+json": {
                            "schema": {
                                "fields": [
                                    {
                                        "name": "Id"
                                    },
                                    {
                                        "name": "DebitType"
                                    },
                                    {
                                        "name": "Amount"
                                    },
                                    {
                                        "name": "Customer_Id"
                                    }
                                ]
                            },
                            "data": [
                                {
                                    "0": "2",
                                    "1": "I",
                                    "2": "100",
                                    "3": "1"
                                },
                                {
                                    "0": "12",
                                    "1": "I",
                                    "2": "10",
                                    "3": "7"
                                }
                            ]
                        },
                        "text/html": [
                            "<table>",
                            "<tr><th>Id</th><th>DebitType</th><th>Amount</th><th>Customer_Id</th></tr>",
                            "<tr><td>2</td><td>I</td><td>100</td><td>1</td></tr>",
                            "<tr><td>12</td><td>I</td><td>10</td><td>7</td></tr>",
                            "</table>"
                        ]
                    }
                }
            ],
            "execution_count": 21
        },
        {
            "cell_type": "code",
            "source": [
                "select Customer_Id from DebitOrders where DebitType='S'"
            ],
            "metadata": {
                "language": "sql",
                "azdata_cell_guid": "20de2ee7-2038-461d-adb5-4b487a8f98b5"
            },
            "outputs": [
                {
                    "output_type": "display_data",
                    "data": {
                        "text/html": "(5 rows affected)"
                    },
                    "metadata": {}
                },
                {
                    "output_type": "display_data",
                    "data": {
                        "text/html": "Total execution time: 00:00:00.006"
                    },
                    "metadata": {}
                },
                {
                    "output_type": "execute_result",
                    "metadata": {},
                    "execution_count": 11,
                    "data": {
                        "application/vnd.dataresource+json": {
                            "schema": {
                                "fields": [
                                    {
                                        "name": "Customer_Id"
                                    }
                                ]
                            },
                            "data": [
                                {
                                    "0": "1"
                                },
                                {
                                    "0": "2"
                                },
                                {
                                    "0": "2"
                                },
                                {
                                    "0": "5"
                                },
                                {
                                    "0": "7"
                                }
                            ]
                        },
                        "text/html": [
                            "<table>",
                            "<tr><th>Customer_Id</th></tr>",
                            "<tr><td>1</td></tr>",
                            "<tr><td>2</td></tr>",
                            "<tr><td>2</td></tr>",
                            "<tr><td>5</td></tr>",
                            "<tr><td>7</td></tr>",
                            "</table>"
                        ]
                    }
                }
            ],
            "execution_count": 11
        }
    ]
}